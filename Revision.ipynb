{
 "cells": [
  {
   "cell_type": "code",
   "execution_count": 6,
   "id": "cd0cd3f5-21aa-400e-8351-54ad02bb2d42",
   "metadata": {},
   "outputs": [],
   "source": [
    "def test(name):\n",
    "    \"\"\"\n",
    "    this function greets to the person\n",
    "    \"\"\"\n",
    "    print(\"hello \" + name + \" Good morning\")"
   ]
  },
  {
   "cell_type": "code",
   "execution_count": 7,
   "id": "af2af866-d037-4d0a-a667-96947723215b",
   "metadata": {},
   "outputs": [
    {
     "name": "stdout",
     "output_type": "stream",
     "text": [
      "hello mohit Good morning\n"
     ]
    }
   ],
   "source": [
    "test(\"mohit\")"
   ]
  },
  {
   "cell_type": "code",
   "execution_count": 8,
   "id": "ee3ec9f7-ef99-413c-b849-809e896722e9",
   "metadata": {},
   "outputs": [
    {
     "name": "stdout",
     "output_type": "stream",
     "text": [
      "hello mohit Good morning\n",
      "None\n"
     ]
    }
   ],
   "source": [
    "print(test(\"mohit\"))"
   ]
  },
  {
   "cell_type": "code",
   "execution_count": 9,
   "id": "630f2761-7559-4b5e-8054-afc2b991ad61",
   "metadata": {},
   "outputs": [],
   "source": [
    "def absolute_value(num):\n",
    "    if num>=0:\n",
    "        return num\n",
    "    else:\n",
    "        return -num"
   ]
  },
  {
   "cell_type": "code",
   "execution_count": 10,
   "id": "64671636-7a84-4d6c-81ce-db7307093df7",
   "metadata": {},
   "outputs": [
    {
     "name": "stdout",
     "output_type": "stream",
     "text": [
      "2\n"
     ]
    }
   ],
   "source": [
    "print(absolute_value(2))"
   ]
  },
  {
   "cell_type": "code",
   "execution_count": 11,
   "id": "bc1d8587-fbf6-4707-a1ce-f7cd63b380a2",
   "metadata": {},
   "outputs": [],
   "source": [
    "def square(x):\n",
    "    return x*x"
   ]
  },
  {
   "cell_type": "code",
   "execution_count": 12,
   "id": "8174a8b3-34a2-45f7-9761-ce288b8a3803",
   "metadata": {},
   "outputs": [
    {
     "data": {
      "text/plain": [
       "4"
      ]
     },
     "execution_count": 12,
     "metadata": {},
     "output_type": "execute_result"
    }
   ],
   "source": [
    "square(2)"
   ]
  },
  {
   "cell_type": "code",
   "execution_count": 13,
   "id": "e0b94f28-1b04-4c40-a1df-a057d330b268",
   "metadata": {},
   "outputs": [],
   "source": [
    "f = square(3)"
   ]
  },
  {
   "cell_type": "code",
   "execution_count": 14,
   "id": "85df80b6-eee1-4573-9de3-1d3255de75a2",
   "metadata": {},
   "outputs": [
    {
     "data": {
      "text/plain": [
       "9"
      ]
     },
     "execution_count": 14,
     "metadata": {},
     "output_type": "execute_result"
    }
   ],
   "source": [
    "f"
   ]
  },
  {
   "cell_type": "code",
   "execution_count": 15,
   "id": "ac6b5d20-a30d-48aa-897e-7dfc75da4520",
   "metadata": {},
   "outputs": [
    {
     "data": {
      "text/plain": [
       "int"
      ]
     },
     "execution_count": 15,
     "metadata": {},
     "output_type": "execute_result"
    }
   ],
   "source": [
    "type(f)"
   ]
  },
  {
   "cell_type": "code",
   "execution_count": 17,
   "id": "bda3ad0b-9ac4-4764-b0f6-b4e84589ddec",
   "metadata": {},
   "outputs": [],
   "source": [
    "f = square"
   ]
  },
  {
   "cell_type": "code",
   "execution_count": 18,
   "id": "e7123643-35da-45b7-b714-04a6d6dd3feb",
   "metadata": {},
   "outputs": [
    {
     "data": {
      "text/plain": [
       "function"
      ]
     },
     "execution_count": 18,
     "metadata": {},
     "output_type": "execute_result"
    }
   ],
   "source": [
    "type(f)"
   ]
  },
  {
   "cell_type": "code",
   "execution_count": 19,
   "id": "b03538ff-a6ec-426b-a411-6ee4b75d5044",
   "metadata": {},
   "outputs": [
    {
     "data": {
      "text/plain": [
       "16"
      ]
     },
     "execution_count": 19,
     "metadata": {},
     "output_type": "execute_result"
    }
   ],
   "source": [
    "f(4)"
   ]
  },
  {
   "cell_type": "code",
   "execution_count": 22,
   "id": "6753fe97-ff8b-4302-9195-1459bdee2460",
   "metadata": {},
   "outputs": [
    {
     "name": "stdout",
     "output_type": "stream",
     "text": [
      "<function square at 0x7f022c9d60e0>\n",
      "<function square at 0x7f022c9d60e0>\n"
     ]
    }
   ],
   "source": [
    "print(square)\n",
    "print(f)   "
   ]
  },
  {
   "cell_type": "code",
   "execution_count": 23,
   "id": "851e43c4-78ed-4c83-91f2-29fa1ca7eae9",
   "metadata": {},
   "outputs": [
    {
     "name": "stdout",
     "output_type": "stream",
     "text": [
      "16\n"
     ]
    }
   ],
   "source": [
    "print(f(4))"
   ]
  },
  {
   "cell_type": "code",
   "execution_count": 24,
   "id": "c21d481d-07e0-48d6-a5b7-0f5ae30e9d0b",
   "metadata": {},
   "outputs": [],
   "source": [
    "def outer_fun():"
   ]
  },
  {
   "cell_type": "code",
   "execution_count": 37,
   "id": "4482da39-66fe-4037-9c81-85eab83706ee",
   "metadata": {},
   "outputs": [],
   "source": [
    "def outer_fun():\n",
    "    message=\"hi\"\n",
    "    \n",
    "    def inner_fun():\n",
    "        print(message)\n",
    "    return inner_fun()"
   ]
  },
  {
   "cell_type": "code",
   "execution_count": 38,
   "id": "ff4ac0f3-828f-4460-8190-1b89abeed0b4",
   "metadata": {},
   "outputs": [
    {
     "name": "stdout",
     "output_type": "stream",
     "text": [
      "hi\n"
     ]
    }
   ],
   "source": [
    "outer_fun()"
   ]
  },
  {
   "cell_type": "code",
   "execution_count": 39,
   "id": "abb63f17-3adb-468e-97aa-c73e17713cbe",
   "metadata": {},
   "outputs": [],
   "source": [
    "def outer_fun():\n",
    "    message=\"hi\"\n",
    "    \n",
    "    def inner_fun():\n",
    "        print(message)\n",
    "    return inner_fun"
   ]
  },
  {
   "cell_type": "code",
   "execution_count": 40,
   "id": "ad3250db-6372-46f9-85c3-3612cd288c5b",
   "metadata": {},
   "outputs": [
    {
     "data": {
      "text/plain": [
       "<function __main__.outer_fun.<locals>.inner_fun()>"
      ]
     },
     "execution_count": 40,
     "metadata": {},
     "output_type": "execute_result"
    }
   ],
   "source": [
    "outer_fun()"
   ]
  },
  {
   "cell_type": "code",
   "execution_count": 41,
   "id": "656d868b-5c49-47eb-8417-cc5ac8a945ab",
   "metadata": {},
   "outputs": [],
   "source": [
    "my_func = outer_fun()"
   ]
  },
  {
   "cell_type": "code",
   "execution_count": 42,
   "id": "7019073a-3f1d-431b-b035-23e3512d1c04",
   "metadata": {},
   "outputs": [
    {
     "data": {
      "text/plain": [
       "function"
      ]
     },
     "execution_count": 42,
     "metadata": {},
     "output_type": "execute_result"
    }
   ],
   "source": [
    "type(my_func)"
   ]
  },
  {
   "cell_type": "code",
   "execution_count": 43,
   "id": "5e6c73a5-e11a-46e4-84f0-564fe48661f6",
   "metadata": {},
   "outputs": [],
   "source": [
    "my_func = outer_fun"
   ]
  },
  {
   "cell_type": "code",
   "execution_count": 44,
   "id": "e8a8ae8d-f0fb-48cb-ae0d-7d1430fc2720",
   "metadata": {},
   "outputs": [
    {
     "data": {
      "text/plain": [
       "function"
      ]
     },
     "execution_count": 44,
     "metadata": {},
     "output_type": "execute_result"
    }
   ],
   "source": [
    "type(my_func)"
   ]
  },
  {
   "cell_type": "code",
   "execution_count": 4,
   "id": "cafffb28-2533-4528-a9bc-e2931f284dfb",
   "metadata": {},
   "outputs": [],
   "source": [
    "def printer():\n",
    "    print (\"hello world\")"
   ]
  },
  {
   "cell_type": "code",
   "execution_count": 5,
   "id": "872f6238-8a48-4ce5-b43f-35d655bcb40b",
   "metadata": {},
   "outputs": [
    {
     "name": "stdout",
     "output_type": "stream",
     "text": [
      "hello world\n"
     ]
    }
   ],
   "source": [
    "printer()"
   ]
  },
  {
   "cell_type": "code",
   "execution_count": 6,
   "id": "5b118cbe-9080-4f50-b2c7-c5dd699efc8c",
   "metadata": {},
   "outputs": [],
   "source": [
    "def display_info(func):\n",
    "    def inner():\n",
    "        print(\"executing\",func.__name__,\"function\")\n",
    "        func()\n",
    "        print(\"finished executing\")\n",
    "    return inner"
   ]
  },
  {
   "cell_type": "code",
   "execution_count": 10,
   "id": "52bddb4d-d862-4576-b84f-4a42fe6fa006",
   "metadata": {},
   "outputs": [],
   "source": [
    "decorated= display_info(printer)"
   ]
  },
  {
   "cell_type": "code",
   "execution_count": 12,
   "id": "eed2f3bf-1ac4-4bd1-9b0f-69d8c9332a85",
   "metadata": {},
   "outputs": [
    {
     "data": {
      "text/plain": [
       "function"
      ]
     },
     "execution_count": 12,
     "metadata": {},
     "output_type": "execute_result"
    }
   ],
   "source": [
    "type(decorated)"
   ]
  },
  {
   "cell_type": "code",
   "execution_count": 13,
   "id": "2bb04b5e-e20d-421c-a246-f6b56567e75b",
   "metadata": {},
   "outputs": [
    {
     "name": "stdout",
     "output_type": "stream",
     "text": [
      "executing printer function\n",
      "hello world\n",
      "finished executing\n"
     ]
    }
   ],
   "source": [
    "decorated()"
   ]
  },
  {
   "cell_type": "raw",
   "id": "23d8d761-341f-4f93-95b8-c6db70245b46",
   "metadata": {},
   "source": [
    "-----------------------------------------------------------------------------------------------"
   ]
  },
  {
   "cell_type": "code",
   "execution_count": 14,
   "id": "49592888-5702-449d-be99-9891cd25b1d6",
   "metadata": {},
   "outputs": [],
   "source": [
    "def display_info(func):\n",
    "    def inner():\n",
    "        print(\"executing\",func.__name__,\"function\")\n",
    "        func()\n",
    "        print(\"finished executing\")\n",
    "    return inner"
   ]
  },
  {
   "cell_type": "code",
   "execution_count": 15,
   "id": "7c072cbd-c922-4c3c-aba9-d25b6f6f1a41",
   "metadata": {},
   "outputs": [],
   "source": [
    "@display_info\n",
    "def printer():\n",
    "    print (\"hello world\")"
   ]
  },
  {
   "cell_type": "code",
   "execution_count": 17,
   "id": "9e69cc77-27aa-415f-ac32-fd90c59ec8ff",
   "metadata": {},
   "outputs": [
    {
     "name": "stdout",
     "output_type": "stream",
     "text": [
      "executing printer function\n",
      "hello world\n",
      "finished executing\n"
     ]
    }
   ],
   "source": [
    "printer()"
   ]
  },
  {
   "cell_type": "raw",
   "id": "dabc4747-44d9-49b7-ae0d-386880ced005",
   "metadata": {},
   "source": [
    "------------------------------------------------------------------------------------"
   ]
  },
  {
   "cell_type": "code",
   "execution_count": 20,
   "id": "42835a91-248e-42d6-9cc3-cbabfce81ad9",
   "metadata": {},
   "outputs": [],
   "source": [
    "def divide(a,b):\n",
    "    return a/b"
   ]
  },
  {
   "cell_type": "code",
   "execution_count": 22,
   "id": "62b8d047-9916-4510-9cc6-03978f955dc9",
   "metadata": {},
   "outputs": [
    {
     "data": {
      "text/plain": [
       "0.4"
      ]
     },
     "execution_count": 22,
     "metadata": {},
     "output_type": "execute_result"
    }
   ],
   "source": [
    "divide(2,5)"
   ]
  },
  {
   "cell_type": "code",
   "execution_count": 23,
   "id": "147c7b6c-785e-4e0f-a6a6-1db7442158f0",
   "metadata": {},
   "outputs": [
    {
     "ename": "ZeroDivisionError",
     "evalue": "division by zero",
     "output_type": "error",
     "traceback": [
      "\u001b[0;31m---------------------------------------------------------------------------\u001b[0m",
      "\u001b[0;31mZeroDivisionError\u001b[0m                         Traceback (most recent call last)",
      "Cell \u001b[0;32mIn [23], line 1\u001b[0m\n\u001b[0;32m----> 1\u001b[0m \u001b[43mdivide\u001b[49m\u001b[43m(\u001b[49m\u001b[38;5;241;43m2\u001b[39;49m\u001b[43m,\u001b[49m\u001b[38;5;241;43m0\u001b[39;49m\u001b[43m)\u001b[49m\n",
      "Cell \u001b[0;32mIn [20], line 2\u001b[0m, in \u001b[0;36mdivide\u001b[0;34m(a, b)\u001b[0m\n\u001b[1;32m      1\u001b[0m \u001b[38;5;28;01mdef\u001b[39;00m \u001b[38;5;21mdivide\u001b[39m(a,b):\n\u001b[0;32m----> 2\u001b[0m     \u001b[38;5;28;01mreturn\u001b[39;00m \u001b[43ma\u001b[49m\u001b[38;5;241;43m/\u001b[39;49m\u001b[43mb\u001b[49m\n",
      "\u001b[0;31mZeroDivisionError\u001b[0m: division by zero"
     ]
    }
   ],
   "source": [
    "divide(2,0)"
   ]
  },
  {
   "cell_type": "code",
   "execution_count": 37,
   "id": "47038970-05ce-4624-ad26-3717e7f5a9bf",
   "metadata": {},
   "outputs": [],
   "source": [
    "def smart_divide(func):\n",
    "    def inner(a,b):\n",
    "        print(\"i am going to divide\",a,\"and\",b)\n",
    "        if b==0:\n",
    "            print(\"cannot divide\")\n",
    "            return\n",
    "        return func(a,b)\n",
    "    return inner"
   ]
  },
  {
   "cell_type": "code",
   "execution_count": 39,
   "id": "92fd6dcf-e769-4112-8856-305088d2facf",
   "metadata": {},
   "outputs": [],
   "source": [
    "@smart_divide\n",
    "def divide(a,b):\n",
    "    return a/b"
   ]
  },
  {
   "cell_type": "code",
   "execution_count": 41,
   "id": "51978805-3a02-48e2-bbdf-0b74f19b663c",
   "metadata": {},
   "outputs": [
    {
     "name": "stdout",
     "output_type": "stream",
     "text": [
      "i am going to divide 2 and 5\n"
     ]
    },
    {
     "data": {
      "text/plain": [
       "0.4"
      ]
     },
     "execution_count": 41,
     "metadata": {},
     "output_type": "execute_result"
    }
   ],
   "source": [
    "divide(2,5)"
   ]
  },
  {
   "cell_type": "raw",
   "id": "74d6b373-92e5-4afb-9724-d07445913950",
   "metadata": {},
   "source": [
    "----------------------------------------------------------------------------------------------------------------------------"
   ]
  },
  {
   "cell_type": "code",
   "execution_count": 44,
   "id": "f04ad218-e23e-4eeb-a1e1-6160054220d8",
   "metadata": {},
   "outputs": [],
   "source": [
    "def printer(msg):\n",
    "    print(msg)"
   ]
  },
  {
   "cell_type": "code",
   "execution_count": null,
   "id": "28433495-2acf-46ac-b8fe-e917ac979ba5",
   "metadata": {},
   "outputs": [],
   "source": [
    "def star(func):\n",
    "    def inner(*args,**kwargs):\n",
    "        print(\"*\"*30)\n",
    "        func(*args,**kwargs)\n",
    "        print(\"*\"*30)\n",
    "    return inner"
   ]
  },
  {
   "cell_type": "code",
   "execution_count": null,
   "id": "1ba46dcd-40d6-43b0-9a4f-e0ab026ce0c7",
   "metadata": {},
   "outputs": [],
   "source": [
    "def percent(func):\n",
    "    def inner(*args,**kwargs):\n",
    "        print(\"%\"*30)\n",
    "        func(*args,**kwargs)\n",
    "        print(\"%\"*30)\n",
    "    return inner"
   ]
  },
  {
   "cell_type": "code",
   "execution_count": 48,
   "id": "26e34199-4dab-4365-b6d5-15790fee255a",
   "metadata": {},
   "outputs": [
    {
     "name": "stdout",
     "output_type": "stream",
     "text": [
      "******************************\n",
      "%%%%%%%%%%%%%%%%%%%%%%%%%%%%%%\n",
      "hello\n",
      "%%%%%%%%%%%%%%%%%%%%%%%%%%%%%%\n",
      "******************************\n"
     ]
    }
   ],
   "source": [
    "def star(func):\n",
    "    def inner(*args,**kwargs):\n",
    "        print(\"*\"*30)\n",
    "        func(*args,**kwargs)\n",
    "        print(\"*\"*30)\n",
    "    return inner\n",
    "\n",
    "def percent(func):\n",
    "    def inner(*args,**kwargs):\n",
    "        print(\"%\"*30)\n",
    "        func(*args,**kwargs)\n",
    "        print(\"%\"*30)\n",
    "    return inner\n",
    "\n",
    "@star\n",
    "@percent\n",
    "def printer(msg):\n",
    "    print(msg)\n",
    "    \n",
    "printer(\"hello\")"
   ]
  },
  {
   "cell_type": "code",
   "execution_count": null,
   "id": "5b7169e3-4493-413f-a7ba-77771db3059b",
   "metadata": {},
   "outputs": [],
   "source": []
  }
 ],
 "metadata": {
  "kernelspec": {
   "display_name": "Python 3 (ipykernel)",
   "language": "python",
   "name": "python3"
  },
  "language_info": {
   "codemirror_mode": {
    "name": "ipython",
    "version": 3
   },
   "file_extension": ".py",
   "mimetype": "text/x-python",
   "name": "python",
   "nbconvert_exporter": "python",
   "pygments_lexer": "ipython3",
   "version": "3.10.6"
  }
 },
 "nbformat": 4,
 "nbformat_minor": 5
}
